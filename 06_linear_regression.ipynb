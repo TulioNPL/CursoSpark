{
 "cells": [
  {
   "cell_type": "markdown",
   "metadata": {},
   "source": [
    "# Funcionalidades básicas"
   ]
  },
  {
   "cell_type": "code",
   "execution_count": 1,
   "metadata": {},
   "outputs": [],
   "source": [
    "from pyspark.sql import SparkSession"
   ]
  },
  {
   "cell_type": "code",
   "execution_count": 2,
   "metadata": {},
   "outputs": [
    {
     "name": "stderr",
     "output_type": "stream",
     "text": [
      "23/12/26 18:46:54 WARN Utils: Your hostname, Valhalla-Zorin resolves to a loopback address: 127.0.1.1; using 192.168.100.36 instead (on interface enp4s0)\n",
      "23/12/26 18:46:54 WARN Utils: Set SPARK_LOCAL_IP if you need to bind to another address\n",
      "Setting default log level to \"WARN\".\n",
      "To adjust logging level use sc.setLogLevel(newLevel). For SparkR, use setLogLevel(newLevel).\n",
      "23/12/26 18:46:54 WARN NativeCodeLoader: Unable to load native-hadoop library for your platform... using builtin-java classes where applicable\n"
     ]
    }
   ],
   "source": [
    "spark = SparkSession.builder.appName('linear_regression').getOrCreate()"
   ]
  },
  {
   "cell_type": "code",
   "execution_count": 3,
   "metadata": {},
   "outputs": [],
   "source": [
    "from pyspark.ml.regression import LinearRegression"
   ]
  },
  {
   "cell_type": "code",
   "execution_count": 4,
   "metadata": {},
   "outputs": [
    {
     "name": "stderr",
     "output_type": "stream",
     "text": [
      "23/12/26 18:48:43 WARN LibSVMFileFormat: 'numFeatures' option not specified, determining the number of features by going though the input. If you know the number in advance, please specify it via 'numFeatures' option to avoid the extra scan.\n"
     ]
    }
   ],
   "source": [
    "training = spark.read.format('libsvm').load('Data/sample_linear_regression_data.txt')"
   ]
  },
  {
   "cell_type": "code",
   "execution_count": 5,
   "metadata": {},
   "outputs": [
    {
     "name": "stdout",
     "output_type": "stream",
     "text": [
      "+-------------------+--------------------+\n",
      "|              label|            features|\n",
      "+-------------------+--------------------+\n",
      "| -9.490009878824548|(10,[0,1,2,3,4,5,...|\n",
      "| 0.2577820163584905|(10,[0,1,2,3,4,5,...|\n",
      "| -4.438869807456516|(10,[0,1,2,3,4,5,...|\n",
      "|-19.782762789614537|(10,[0,1,2,3,4,5,...|\n",
      "| -7.966593841555266|(10,[0,1,2,3,4,5,...|\n",
      "| -7.896274316726144|(10,[0,1,2,3,4,5,...|\n",
      "| -8.464803554195287|(10,[0,1,2,3,4,5,...|\n",
      "| 2.1214592666251364|(10,[0,1,2,3,4,5,...|\n",
      "| 1.0720117616524107|(10,[0,1,2,3,4,5,...|\n",
      "|-13.772441561702871|(10,[0,1,2,3,4,5,...|\n",
      "| -5.082010756207233|(10,[0,1,2,3,4,5,...|\n",
      "|  7.887786536531237|(10,[0,1,2,3,4,5,...|\n",
      "| 14.323146365332388|(10,[0,1,2,3,4,5,...|\n",
      "|-20.057482615789212|(10,[0,1,2,3,4,5,...|\n",
      "|-0.8995693247765151|(10,[0,1,2,3,4,5,...|\n",
      "| -19.16829262296376|(10,[0,1,2,3,4,5,...|\n",
      "|  5.601801561245534|(10,[0,1,2,3,4,5,...|\n",
      "|-3.2256352187273354|(10,[0,1,2,3,4,5,...|\n",
      "| 1.5299675726687754|(10,[0,1,2,3,4,5,...|\n",
      "| -0.250102447941961|(10,[0,1,2,3,4,5,...|\n",
      "+-------------------+--------------------+\n",
      "only showing top 20 rows\n",
      "\n"
     ]
    }
   ],
   "source": [
    "training.show()"
   ]
  },
  {
   "cell_type": "code",
   "execution_count": 6,
   "metadata": {},
   "outputs": [],
   "source": [
    " lr = LinearRegression(featuresCol='features', labelCol='label', predictionCol='prediction')"
   ]
  },
  {
   "cell_type": "code",
   "execution_count": 7,
   "metadata": {},
   "outputs": [
    {
     "name": "stderr",
     "output_type": "stream",
     "text": [
      "23/12/26 18:53:11 WARN Instrumentation: [99dda99f] regParam is zero, which might cause numerical instability and overfitting.\n",
      "23/12/26 18:53:11 WARN InstanceBuilder: Failed to load implementation from:dev.ludovic.netlib.blas.JNIBLAS\n",
      "23/12/26 18:53:11 WARN InstanceBuilder: Failed to load implementation from:dev.ludovic.netlib.blas.VectorBLAS\n",
      "23/12/26 18:53:11 WARN InstanceBuilder: Failed to load implementation from:dev.ludovic.netlib.lapack.JNILAPACK\n"
     ]
    }
   ],
   "source": [
    "lrModel = lr.fit(training)"
   ]
  },
  {
   "cell_type": "code",
   "execution_count": 8,
   "metadata": {},
   "outputs": [
    {
     "data": {
      "text/plain": [
       "DenseVector([0.0073, 0.8314, -0.8095, 2.4412, 0.5192, 1.1535, -0.2989, -0.5129, -0.6197, 0.6956])"
      ]
     },
     "execution_count": 8,
     "metadata": {},
     "output_type": "execute_result"
    }
   ],
   "source": [
    "lrModel.coefficients"
   ]
  },
  {
   "cell_type": "code",
   "execution_count": 9,
   "metadata": {},
   "outputs": [
    {
     "data": {
      "text/plain": [
       "0.14228558260358093"
      ]
     },
     "execution_count": 9,
     "metadata": {},
     "output_type": "execute_result"
    }
   ],
   "source": [
    "lrModel.intercept"
   ]
  },
  {
   "cell_type": "code",
   "execution_count": 10,
   "metadata": {},
   "outputs": [],
   "source": [
    "training_summary = lrModel.summary"
   ]
  },
  {
   "cell_type": "code",
   "execution_count": 11,
   "metadata": {},
   "outputs": [
    {
     "data": {
      "text/plain": [
       "0.027839179518600154"
      ]
     },
     "execution_count": 11,
     "metadata": {},
     "output_type": "execute_result"
    }
   ],
   "source": [
    "training_summary.r2"
   ]
  },
  {
   "cell_type": "code",
   "execution_count": 12,
   "metadata": {},
   "outputs": [
    {
     "data": {
      "text/plain": [
       "10.16309157133015"
      ]
     },
     "execution_count": 12,
     "metadata": {},
     "output_type": "execute_result"
    }
   ],
   "source": [
    "training_summary.rootMeanSquaredError"
   ]
  },
  {
   "cell_type": "markdown",
   "metadata": {},
   "source": [
    "# Lendo e separando os dados em treino/teste"
   ]
  },
  {
   "cell_type": "code",
   "execution_count": 13,
   "metadata": {},
   "outputs": [
    {
     "name": "stderr",
     "output_type": "stream",
     "text": [
      "23/12/26 18:55:56 WARN LibSVMFileFormat: 'numFeatures' option not specified, determining the number of features by going though the input. If you know the number in advance, please specify it via 'numFeatures' option to avoid the extra scan.\n"
     ]
    }
   ],
   "source": [
    "data = spark.read.format('libsvm').load('Data/sample_linear_regression_data.txt')"
   ]
  },
  {
   "cell_type": "code",
   "execution_count": 14,
   "metadata": {},
   "outputs": [],
   "source": [
    "train_data, test_data = data.randomSplit([0.7,0.3])"
   ]
  },
  {
   "cell_type": "code",
   "execution_count": 20,
   "metadata": {},
   "outputs": [
    {
     "name": "stdout",
     "output_type": "stream",
     "text": [
      "+-------+-------------------+\n",
      "|summary|              label|\n",
      "+-------+-------------------+\n",
      "|  count|                336|\n",
      "|   mean|0.40522043985230416|\n",
      "| stddev| 10.716572544993632|\n",
      "|    min|-28.571478869743427|\n",
      "|    max| 27.111027963108548|\n",
      "+-------+-------------------+\n",
      "\n"
     ]
    }
   ],
   "source": [
    "train_data.describe().show()"
   ]
  },
  {
   "cell_type": "code",
   "execution_count": 21,
   "metadata": {},
   "outputs": [
    {
     "name": "stdout",
     "output_type": "stream",
     "text": [
      "+-------+--------------------+\n",
      "|summary|               label|\n",
      "+-------+--------------------+\n",
      "|  count|                 165|\n",
      "|   mean|-0.04516829012535...|\n",
      "| stddev|    9.47843114290769|\n",
      "|    min| -26.805483428483072|\n",
      "|    max|   27.78383192005107|\n",
      "+-------+--------------------+\n",
      "\n"
     ]
    }
   ],
   "source": [
    "test_data.describe().show()"
   ]
  },
  {
   "cell_type": "code",
   "execution_count": 22,
   "metadata": {},
   "outputs": [
    {
     "name": "stderr",
     "output_type": "stream",
     "text": [
      "23/12/26 18:58:26 WARN Instrumentation: [766ad8c0] regParam is zero, which might cause numerical instability and overfitting.\n"
     ]
    }
   ],
   "source": [
    "lr_model = lr.fit(train_data)"
   ]
  },
  {
   "cell_type": "code",
   "execution_count": 24,
   "metadata": {},
   "outputs": [],
   "source": [
    "results = lr_model.evaluate(test_data)"
   ]
  },
  {
   "cell_type": "code",
   "execution_count": 25,
   "metadata": {},
   "outputs": [
    {
     "name": "stdout",
     "output_type": "stream",
     "text": [
      "+-------------------+\n",
      "|          residuals|\n",
      "+-------------------+\n",
      "|-28.423788890492503|\n",
      "| -28.30511517165511|\n",
      "| -19.19118724108135|\n",
      "|-16.260683562039876|\n",
      "|-17.269045558802528|\n",
      "|-19.175074498864046|\n",
      "| -19.14389043571905|\n",
      "|-17.083610166215713|\n",
      "|-16.319961082598514|\n",
      "|-14.822658861754949|\n",
      "| -19.78508311198186|\n",
      "|-16.123579473557154|\n",
      "|-15.063222294664996|\n",
      "|-18.083341353448642|\n",
      "|-14.579077565520379|\n",
      "|-12.235922937923236|\n",
      "|-10.717114518409996|\n",
      "|-14.749988825096546|\n",
      "|-12.677558940433688|\n",
      "|-15.664453527059393|\n",
      "+-------------------+\n",
      "only showing top 20 rows\n",
      "\n"
     ]
    }
   ],
   "source": [
    "results.residuals.show()"
   ]
  },
  {
   "cell_type": "code",
   "execution_count": 26,
   "metadata": {},
   "outputs": [
    {
     "data": {
      "text/plain": [
       "9.594102427323328"
      ]
     },
     "execution_count": 26,
     "metadata": {},
     "output_type": "execute_result"
    }
   ],
   "source": [
    "results.rootMeanSquaredError"
   ]
  },
  {
   "cell_type": "code",
   "execution_count": 30,
   "metadata": {},
   "outputs": [
    {
     "name": "stdout",
     "output_type": "stream",
     "text": [
      "+-------------------+--------------------+--------------------+\n",
      "|              label|            features|          prediction|\n",
      "+-------------------+--------------------+--------------------+\n",
      "|-26.805483428483072|(10,[0,1,2,3,4,5,...|  1.6183054620094302|\n",
      "|-22.949825936196074|(10,[0,1,2,3,4,5,...|   5.355289235459036|\n",
      "|-22.837460416919342|(10,[0,1,2,3,4,5,...| -3.6462731758379885|\n",
      "| -19.16829262296376|(10,[0,1,2,3,4,5,...|  -2.907609060923885|\n",
      "|-17.803626188664516|(10,[0,1,2,3,4,5,...| -0.5345806298619868|\n",
      "|-17.428674570939506|(10,[0,1,2,3,4,5,...|  1.7463999279245406|\n",
      "|-17.065399625876015|(10,[0,1,2,3,4,5,...|  2.0784908098430366|\n",
      "|-17.026492264209548|(10,[0,1,2,3,4,5,...|0.057117902006163956|\n",
      "| -16.71909683360509|(10,[0,1,2,3,4,5,...|-0.39913575100657517|\n",
      "| -16.08565904102149|(10,[0,1,2,3,4,5,...|  -1.263000179266542|\n",
      "|-15.780685032623301|(10,[0,1,2,3,4,5,...|   4.004398079358557|\n",
      "|-15.732088272239245|(10,[0,1,2,3,4,5,...|  0.3914912013179067|\n",
      "|-15.375857723312297|(10,[0,1,2,3,4,5,...|-0.31263542864730076|\n",
      "|-15.359544879832677|(10,[0,1,2,3,4,5,...|   2.723796473615965|\n",
      "|-13.039928064104615|(10,[0,1,2,3,4,5,...|  1.5391495014157637|\n",
      "|-12.977848725392104|(10,[0,1,2,3,4,5,...| -0.7419257874688666|\n",
      "|-12.773226999251197|(10,[0,1,2,3,4,5,...| -2.0561124808412004|\n",
      "|-12.500773785355054|(10,[0,1,2,3,4,5,...|   2.249215039741491|\n",
      "|-12.479280211451497|(10,[0,1,2,3,4,5,...|    0.19827872898219|\n",
      "|-11.827072996392571|(10,[0,1,2,3,4,5,...|   3.837380530666822|\n",
      "+-------------------+--------------------+--------------------+\n",
      "only showing top 20 rows\n",
      "\n"
     ]
    }
   ],
   "source": [
    "results.predictions.show()"
   ]
  },
  {
   "cell_type": "code",
   "execution_count": 31,
   "metadata": {},
   "outputs": [],
   "source": [
    "unlabeled_data = test_data.select('features')"
   ]
  },
  {
   "cell_type": "code",
   "execution_count": 32,
   "metadata": {},
   "outputs": [],
   "source": [
    "predictions = lr_model.transform(unlabeled_data)"
   ]
  },
  {
   "cell_type": "code",
   "execution_count": 33,
   "metadata": {},
   "outputs": [
    {
     "name": "stdout",
     "output_type": "stream",
     "text": [
      "+--------------------+--------------------+\n",
      "|            features|          prediction|\n",
      "+--------------------+--------------------+\n",
      "|(10,[0,1,2,3,4,5,...|  1.6183054620094302|\n",
      "|(10,[0,1,2,3,4,5,...|   5.355289235459036|\n",
      "|(10,[0,1,2,3,4,5,...| -3.6462731758379885|\n",
      "|(10,[0,1,2,3,4,5,...|  -2.907609060923885|\n",
      "|(10,[0,1,2,3,4,5,...| -0.5345806298619868|\n",
      "|(10,[0,1,2,3,4,5,...|  1.7463999279245406|\n",
      "|(10,[0,1,2,3,4,5,...|  2.0784908098430366|\n",
      "|(10,[0,1,2,3,4,5,...|0.057117902006163956|\n",
      "|(10,[0,1,2,3,4,5,...|-0.39913575100657517|\n",
      "|(10,[0,1,2,3,4,5,...|  -1.263000179266542|\n",
      "|(10,[0,1,2,3,4,5,...|   4.004398079358557|\n",
      "|(10,[0,1,2,3,4,5,...|  0.3914912013179067|\n",
      "|(10,[0,1,2,3,4,5,...|-0.31263542864730076|\n",
      "|(10,[0,1,2,3,4,5,...|   2.723796473615965|\n",
      "|(10,[0,1,2,3,4,5,...|  1.5391495014157637|\n",
      "|(10,[0,1,2,3,4,5,...| -0.7419257874688666|\n",
      "|(10,[0,1,2,3,4,5,...| -2.0561124808412004|\n",
      "|(10,[0,1,2,3,4,5,...|   2.249215039741491|\n",
      "|(10,[0,1,2,3,4,5,...|    0.19827872898219|\n",
      "|(10,[0,1,2,3,4,5,...|   3.837380530666822|\n",
      "+--------------------+--------------------+\n",
      "only showing top 20 rows\n",
      "\n"
     ]
    }
   ],
   "source": [
    "predictions.show()"
   ]
  },
  {
   "cell_type": "code",
   "execution_count": null,
   "metadata": {},
   "outputs": [],
   "source": []
  }
 ],
 "metadata": {
  "kernelspec": {
   "display_name": "dsfs",
   "language": "python",
   "name": "python3"
  },
  "language_info": {
   "codemirror_mode": {
    "name": "ipython",
    "version": 3
   },
   "file_extension": ".py",
   "mimetype": "text/x-python",
   "name": "python",
   "nbconvert_exporter": "python",
   "pygments_lexer": "ipython3",
   "version": "3.9.18"
  }
 },
 "nbformat": 4,
 "nbformat_minor": 2
}
